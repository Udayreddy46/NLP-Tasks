{
  "nbformat": 4,
  "nbformat_minor": 0,
  "metadata": {
    "colab": {
      "provenance": []
    },
    "kernelspec": {
      "name": "python3",
      "display_name": "Python 3"
    },
    "language_info": {
      "name": "python"
    }
  },
  "cells": [
    {
      "cell_type": "code",
      "execution_count": null,
      "metadata": {
        "colab": {
          "base_uri": "https://localhost:8080/"
        },
        "id": "0x_hRmMuFo08",
        "outputId": "924a5ed2-cdfa-4d6b-9631-78c876068af0"
      },
      "outputs": [
        {
          "output_type": "stream",
          "name": "stdout",
          "text": [
            "Enter a sentence: this is the sample example taken to evaluate the n-gram smoothening technique\n",
            "Enter the value of N for N-grams: 10\n",
            "Next words: </s> </s> </s>\n"
          ]
        }
      ],
      "source": [
        "from nltk.util import ngrams\n",
        "from nltk.lm import Laplace\n",
        "# from nltk.tokenize import word_tokenize # Removed word_tokenize import\n",
        "from nltk.lm.preprocessing import padded_everygram_pipeline\n",
        "# import nltk # Removed nltk import as downloads are not needed here\n",
        "# nltk.download('punkt_tab') # Removed download\n",
        "# nltk.download('punkt') # Removed download\n",
        "def ngram_smoothing(sentence, n):\n",
        "    # tokens = word_tokenize(sentence.lower()) # Replaced word_tokenize\n",
        "    tokens = sentence.lower().split() # Simple split by whitespace\n",
        "    train_data, padded_sents = padded_everygram_pipeline(n, tokens)\n",
        "    model = Laplace(n)\n",
        "    model.fit(train_data, padded_sents)\n",
        "    return model\n",
        "sentence = input(\"Enter a sentence: \")\n",
        "n = int(input(\"Enter the value of N for N-grams: \"))\n",
        "model = ngram_smoothing(sentence, n)\n",
        "context = tuple(sentence.lower().split()[-n+1:])\n",
        "next_words = model.generate(3, text_seed=context)\n",
        "print(\"Next words:\", ' '.join(next_words))"
      ]
    },
    {
      "cell_type": "code",
      "metadata": {
        "colab": {
          "base_uri": "https://localhost:8080/"
        },
        "id": "faf85a85",
        "outputId": "401455b0-41ca-4f46-fe8b-eaa09c3b2cfd"
      },
      "source": [
        "import nltk\n",
        "nltk.download('punkt')"
      ],
      "execution_count": null,
      "outputs": [
        {
          "output_type": "stream",
          "name": "stderr",
          "text": [
            "[nltk_data] Downloading package punkt to /root/nltk_data...\n",
            "[nltk_data]   Unzipping tokenizers/punkt.zip.\n"
          ]
        },
        {
          "output_type": "execute_result",
          "data": {
            "text/plain": [
              "True"
            ]
          },
          "metadata": {},
          "execution_count": 3
        }
      ]
    },
    {
      "cell_type": "code",
      "metadata": {
        "colab": {
          "base_uri": "https://localhost:8080/"
        },
        "id": "363e093f",
        "outputId": "fb92368f-feb1-4ff4-9443-6daa382cd1fe"
      },
      "source": [
        "import nltk\n",
        "nltk.download('punkt_tab')"
      ],
      "execution_count": null,
      "outputs": [
        {
          "output_type": "stream",
          "name": "stderr",
          "text": [
            "[nltk_data] Downloading package punkt_tab to /root/nltk_data...\n",
            "[nltk_data]   Unzipping tokenizers/punkt_tab.zip.\n"
          ]
        },
        {
          "output_type": "execute_result",
          "data": {
            "text/plain": [
              "True"
            ]
          },
          "metadata": {},
          "execution_count": 2
        }
      ]
    }
  ]
}